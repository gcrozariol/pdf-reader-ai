{
 "cells": [
  {
   "cell_type": "code",
   "execution_count": 6,
   "id": "4be78095-f80d-4ca1-8ff2-b1258e5fc8cc",
   "metadata": {},
   "outputs": [],
   "source": [
    "from langchain_text_splitters import RecursiveCharacterTextSplitter\n",
    "from langchain_openai import OpenAIEmbeddings, ChatOpenAI\n",
    "from langchain_chroma import Chroma\n",
    "from langchain_community.document_loaders.pdf import PyPDFLoader\n",
    "from langchain.chains.question_answering.chain import load_qa_chain"
   ]
  },
  {
   "cell_type": "code",
   "execution_count": null,
   "id": "5453fd7f",
   "metadata": {},
   "outputs": [],
   "source": []
  },
  {
   "cell_type": "code",
   "execution_count": 7,
   "id": "048d1602-3f07-4d50-8dec-5838d3c2812e",
   "metadata": {},
   "outputs": [],
   "source": [
    "import os"
   ]
  },
  {
   "cell_type": "code",
   "execution_count": null,
   "id": "5d316d73-7892-445f-b33d-ec8858345cd3",
   "metadata": {},
   "outputs": [],
   "source": [
    "os.environ[\"OPENAI_API_KEY\"] = \"YOUR_OPEN_AI_API_KEY\""
   ]
  },
  {
   "cell_type": "code",
   "execution_count": 9,
   "id": "c319b077-0a7e-4f6b-816d-f19b2c477643",
   "metadata": {},
   "outputs": [],
   "source": [
    "# Model Loading (Embeddings & LLM)\n",
    "\n",
    "embeddings_model = OpenAIEmbeddings()\n",
    "llm = ChatOpenAI(model=\"gpt-3.5-turbo\", max_tokens=200)"
   ]
  },
  {
   "cell_type": "code",
   "execution_count": 10,
   "id": "cb6d8815",
   "metadata": {},
   "outputs": [],
   "source": [
    "# Load PDF\n",
    "\n",
    "pdf_link = \"example.pdf\"\n",
    "\n",
    "loader = PyPDFLoader(pdf_link, extract_images=False)\n",
    "pages = loader.load_and_split()"
   ]
  },
  {
   "cell_type": "code",
   "execution_count": 11,
   "id": "296d8221",
   "metadata": {},
   "outputs": [],
   "source": [
    "# Separate document in chunks\n",
    "\n",
    "text_splitter = RecursiveCharacterTextSplitter(\n",
    "  chunk_size = 4000,\n",
    "  chunk_overlap = 20,\n",
    "  length_function = len,\n",
    "  add_start_index = True,\n",
    ")\n",
    "\n",
    "chunks = text_splitter.split_documents(pages)"
   ]
  },
  {
   "cell_type": "code",
   "execution_count": 12,
   "id": "bd42cd3c",
   "metadata": {},
   "outputs": [],
   "source": [
    "# Save chunks to vector store (Chroma database)\n",
    "\n",
    "db = Chroma.from_documents(\n",
    "  chunks, \n",
    "  embedding=embeddings_model, \n",
    "  persist_directory=\"text_index\"\n",
    ")"
   ]
  },
  {
   "cell_type": "code",
   "execution_count": 13,
   "id": "d6be1e2f",
   "metadata": {},
   "outputs": [
    {
     "name": "stderr",
     "output_type": "stream",
     "text": [
      "/var/folders/m7/3rgr80p16n9gk230pq2fkg9h0000gn/T/ipykernel_31067/2194551600.py:12: LangChainDeprecationWarning: This class is deprecated. See the following migration guides for replacements based on `chain_type`:\n",
      "stuff: https://python.langchain.com/docs/versions/migrating_chains/stuff_docs_chain\n",
      "map_reduce: https://python.langchain.com/docs/versions/migrating_chains/map_reduce_chain\n",
      "refine: https://python.langchain.com/docs/versions/migrating_chains/refine_chain\n",
      "map_rerank: https://python.langchain.com/docs/versions/migrating_chains/map_rerank_docs_chain\n",
      "\n",
      "See also guides on retrieval and question-answering here: https://python.langchain.com/docs/how_to/#qa-with-rag\n",
      "  chain = load_qa_chain(llm, chain_type=\"stuff\")\n"
     ]
    }
   ],
   "source": [
    "# Load database\n",
    "\n",
    "vector_db = Chroma(\n",
    "  persist_directory=\"text_index\", \n",
    "  embedding_function=embeddings_model\n",
    ")\n",
    "\n",
    "# Load retriever\n",
    "retriever = vector_db.as_retriever(search_kwargs={\"k\": 3})\n",
    "\n",
    "# Chain creation for LLM prompt\n",
    "chain = load_qa_chain(llm, chain_type=\"stuff\")"
   ]
  },
  {
   "cell_type": "code",
   "execution_count": 14,
   "id": "72fb1034",
   "metadata": {},
   "outputs": [],
   "source": [
    "def ask(question):\n",
    "  context = retriever.invoke(question)\n",
    "  answer = (chain({\"input_documents\": context, \"question\": question}, return_only_outputs=True))['output_text']\n",
    "  return answer, context"
   ]
  },
  {
   "cell_type": "code",
   "execution_count": 15,
   "id": "81774da0",
   "metadata": {},
   "outputs": [
    {
     "name": "stderr",
     "output_type": "stream",
     "text": [
      "/var/folders/m7/3rgr80p16n9gk230pq2fkg9h0000gn/T/ipykernel_31067/778930965.py:3: LangChainDeprecationWarning: The method `Chain.__call__` was deprecated in langchain 0.1.0 and will be removed in 1.0. Use :meth:`~invoke` instead.\n",
      "  answer = (chain({\"input_documents\": context, \"question\": question}, return_only_outputs=True))['output_text']\n"
     ]
    },
    {
     "name": "stdout",
     "output_type": "stream",
     "text": [
      "Answer:  This PDF seems to be a comprehensive guide for beginners in audio mixing and processing. It covers topics like clipping correctly, mix bus compression, multi-band processing, controlling dynamics, using gain effectively, and addressing issues with loudness and laziness in mixes. Each section delves into different aspects of audio engineering, providing information, tips, and strategies to improve the quality of mixes.\n"
     ]
    }
   ],
   "source": [
    "user_question = input(\"User: \")\n",
    "answer, context = ask(user_question)\n",
    "print(\"Answer: \", answer)"
   ]
  },
  {
   "cell_type": "code",
   "execution_count": 16,
   "id": "10c4e2cd",
   "metadata": {},
   "outputs": [
    {
     "name": "stdout",
     "output_type": "stream",
     "text": [
      "page_content='Section 01  The Beginners Guide To Clipping Correctly .................................................\n",
      " 1. Stop Going Into The Red .......................................................................................\n",
      " 2. So If Clipping Has Always Been Bad, Why Would I Want To Do It? ..................\n",
      "\t 3.\t What\tOther\tBenefits\tDo\tPeak\tClippers\tOffer?\t......................................................\n",
      " 4. What If I Want To Use a Clipper For Mastering? .................................................\n",
      " 5. Have your own clipping examples? ......................................................................\n",
      "Section 02  The Beginner’s Guide to Mix Bus Compression ...........................................\n",
      " 1. What is Mix Bus Compression? ............................................................................\n",
      " 2. How Does Mix Bus Compression Affect My Mixes? ...........................................\n",
      " 3. Common Mix Bus Compressors ...........................................................................\n",
      " 4. The Combination/Alternative ................................................................................\n",
      " 5. What Kind of Tone Do You Go For? .....................................................................\n",
      "Section 03  The Beginner’s Guide to Multi-Band Processing ..........................................\n",
      " 1. EQ: The O.G. Multi-Band Processing Tool ..........................................................\n",
      " 2. Multi-Band Compression ......................................................................................\n",
      " 3. Enter Digital Multi-Band Compression ................................................................\n",
      " 4. Other Multi-Band Processors ................................................................................\n",
      "\t 5.\t What\tMulti-Band\tProcessors\tWould\tYou\tLike\tTo\tSee?\t........................................\n",
      "   \n",
      "Section 04  The Top 3 Reasons Mixing Engineers Fail To Control Their Dynamics \n",
      "And What To Do About It ...................................................................................................\n",
      " 1. Engineers Go On Autopilot ...................................................................................\n",
      "\t 2.\t Working\tIn\tIsolation\t..............................................................................................\n",
      "\t 3.\t They’re\tNot\tThinking\tAt\tA\tGroup\tLevel\t..............................................................\n",
      "\t 4.\t Are\tYou\tReady\tTo\tTake\tControl\tBack?\t.................................................................\n",
      "Section 05  Your Gain Knob Is Not A Volume Knob ........................................................\n",
      " 1. A Confession About Gain ......................................................................................\n",
      " 2. When Should You Use Gain? ................................................................................\n",
      " 3. Gain Staging ..........................................................................................................\n",
      " 4. Gaining Momentum ..............................................................................................\n",
      "Section 06  Loudness & Laziness: Two Things Holding Your Mixes Back ....................\n",
      " 1. Let’s Start With Laziness .......................................................................................\n",
      " 2. Loudness ................................................................................................................\n",
      " 3. Winning The Loudness War ..................................................................................\n",
      "Contact ..................................................................................................................................\n",
      "04\n",
      "04\n",
      "05\n",
      "06\n",
      "06\n",
      "07\n",
      "08\n",
      "09\n",
      "10\n",
      "11\n",
      "13\n",
      "15\n",
      "16\n",
      "17\n",
      "19\n",
      "20\n",
      "21\n",
      "22\n",
      "23\n",
      "25\n",
      "26\n",
      "27\n",
      "29\n",
      "30\n",
      "31\n",
      "33\n",
      "34\n",
      "35\n",
      "37\n",
      "38\n",
      "40\n",
      "42\n",
      "43\n",
      "table of contents' metadata={'page': 2, 'page_label': '3', 'source': 'JST_eBook_virtualSignalChainSecrets.pdf', 'start_index': 0}\n"
     ]
    }
   ],
   "source": [
    "print(context[0])"
   ]
  }
 ],
 "metadata": {
  "kernelspec": {
   "display_name": "Python 3",
   "language": "python",
   "name": "python3"
  },
  "language_info": {
   "codemirror_mode": {
    "name": "ipython",
    "version": 3
   },
   "file_extension": ".py",
   "mimetype": "text/x-python",
   "name": "python",
   "nbconvert_exporter": "python",
   "pygments_lexer": "ipython3",
   "version": "3.13.1"
  }
 },
 "nbformat": 4,
 "nbformat_minor": 5
}
